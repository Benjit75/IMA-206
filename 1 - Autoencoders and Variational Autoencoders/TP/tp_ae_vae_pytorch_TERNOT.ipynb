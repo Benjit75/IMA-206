{
 "cells": [
  {
   "cell_type": "markdown",
   "metadata": {
    "id": "TdpPHz2Lp6VD"
   },
   "source": [
    "# TP Coding autoencoders and variational autoencoders in Pytorch\n",
    "\n",
    "\n",
    "Author : Alasdair Newson\n",
    "\n",
    "alasdair.newson@telecom-paris.fr\n",
    "\n",
    "## Objective:\n",
    "\n",
    "The goal of this TP is to explore autoencoders and variational autoencoders applied to a simple dataset. In this first part, we will look at an autoencoder applied to MNIST. We recall that an autoencoder is a neural network with the following general architecture:\n",
    "\n",
    "\n",
    "![AUTOENCODER](https://perso.telecom-paristech.fr/anewson/doc/images/autoencoder_illustration_2.png)\n",
    "\n",
    "The tensor $z$ in the middle of the network is called a __latent code__, and it belongs to the latent space. It is this latent space which is interesting in autoencoders (for image synthesis, editing, etc).\n",
    "\n",
    "### Your task:\n",
    "You need to add the missing parts in the code (parts between # --- START CODE HERE and # --- END CODE HERE or # FILL IN CODE)\n",
    "\n",
    "\n",
    "First of all, let's load some packages"
   ]
  },
  {
   "cell_type": "code",
   "execution_count": 1,
   "metadata": {
    "id": "JqNeIJ8Op8Ao"
   },
   "outputs": [],
   "source": [
    "import torch\n",
    "import torch.nn as nn\n",
    "import torch.nn.functional as F\n",
    "import torch.optim as optim\n",
    "from torchvision import datasets, transforms\n",
    "from torch.autograd import Variable\n",
    "from torchvision.utils import save_image\n",
    "\n",
    "import pdb\n",
    "import numpy as np\n",
    "import matplotlib.pyplot as plt\n",
    "\n",
    "def pytorch_to_numpy(x):\n",
    "    return x.detach().numpy()"
   ]
  },
  {
   "cell_type": "markdown",
   "metadata": {
    "id": "Hyj5dj_eui9D"
   },
   "source": [
    "First, we load the mnist dataset."
   ]
  },
  {
   "cell_type": "code",
   "execution_count": 2,
   "metadata": {
    "id": "4YPLKlPrufSk"
   },
   "outputs": [],
   "source": [
    "\n",
    "batch_size = 128\n",
    "\n",
    "# MNIST Dataset\n",
    "mnist_trainset = datasets.MNIST(root='./mnist_data/', train=True, transform=transforms.ToTensor(), download=True)\n",
    "mnist_testset = datasets.MNIST(root='./mnist_data/', train=False, transform=transforms.ToTensor(), download=False)\n",
    "\n",
    "#create data loader with smaller dataset size\n",
    "max_mnist_size = 1000\n",
    "mnist_trainset_reduced = torch.utils.data.random_split(mnist_trainset, [max_mnist_size, len(mnist_trainset)-max_mnist_size])[0] \n",
    "mnist_train_loader = torch.utils.data.DataLoader(mnist_trainset_reduced, batch_size=batch_size, shuffle=True,drop_last=True)\n",
    "\n",
    "# download test dataset\n",
    "max_mnist_size = 512\n",
    "mnist_testset_reduced = torch.utils.data.random_split(mnist_testset, [max_mnist_size, len(mnist_testset)-max_mnist_size])[0] \n",
    "mnist_test_loader = torch.utils.data.DataLoader(mnist_testset_reduced, batch_size=batch_size, shuffle=True,drop_last=True)\n"
   ]
  },
  {
   "cell_type": "code",
   "execution_count": 3,
   "metadata": {
    "id": "r7YhlBT2PN9I"
   },
   "outputs": [
    {
     "name": "stderr",
     "output_type": "stream",
     "text": [
      "C:\\ProgramData\\Anaconda3\\lib\\site-packages\\torchvision\\datasets\\mnist.py:75: UserWarning: train_data has been renamed data\n",
      "  warnings.warn(\"train_data has been renamed data\")\n"
     ]
    },
    {
     "data": {
      "text/plain": [
       "torch.Size([60000, 28, 28])"
      ]
     },
     "execution_count": 3,
     "metadata": {},
     "output_type": "execute_result"
    }
   ],
   "source": [
    "mnist_trainset_reduced.dataset.train_data.shape"
   ]
  },
  {
   "cell_type": "markdown",
   "metadata": {
    "id": "t-bkK4ktwfvC"
   },
   "source": [
    "# 1 Vanilla Autoencoder\n",
    "\n",
    "Now, we define the general parameters of the autoencoder"
   ]
  },
  {
   "cell_type": "code",
   "execution_count": 4,
   "metadata": {
    "id": "mD56EDzbvUxq"
   },
   "outputs": [],
   "source": [
    "# autoencoder parameters\n",
    "n_rows = mnist_trainset_reduced.dataset.train_data.shape[1]\n",
    "n_cols = mnist_trainset_reduced.dataset.train_data.shape[2]\n",
    "n_channels = 1\n",
    "n_pixels = n_rows*n_cols\n",
    "\n",
    "img_shape = (n_rows, n_cols, n_channels)\n",
    "n_epochs = 150"
   ]
  },
  {
   "cell_type": "markdown",
   "metadata": {
    "id": "6jLa2-jQwxSI"
   },
   "source": [
    "Now, define the autoencoder architecture. In the first part, we will use the following MLP architecture :\n",
    "\n",
    "Encoder :\n",
    "- Flatten input\n",
    "- Dense layer, output size h_dim_1 + ReLU\n",
    "- Dense layer, output size h_dim_2 + ReLU\n",
    "- Dense layer, output size z_dim (no non-linearity)\n",
    "\n",
    "Decoder :\n",
    "- Dense layer, output size h_dim_2 + ReLU\n",
    "- Dense layer, output size h_dim_1 + ReLU\n",
    "- Dense layer, output size x_dim + Sigmoid Activation\n",
    "- Reshape, to size $28\\times 28\\times 1$\n",
    "\n",
    "For the Reshape operation, use the ```A.view(dim_1,dim_2,...)``` function, where ```A``` is your tensor."
   ]
  },
  {
   "cell_type": "code",
   "execution_count": 5,
   "metadata": {
    "id": "tEuZfnUlXxMl"
   },
   "outputs": [],
   "source": [
    "class AE(torch.nn.Module ):\n",
    "    def __init__(self, x_dim, h_dim1, h_dim2, z_dim,n_rows,n_cols,n_channels):\n",
    "        super(AE, self).__init__()\n",
    "\n",
    "        self.n_rows = n_rows\n",
    "        self.n_cols = n_cols\n",
    "        self.n_channels = n_channels\n",
    "        self.n_pixels = (self.n_rows)*(self.n_cols)\n",
    "        self.z_dim = z_dim\n",
    "\n",
    "        # encoder part\n",
    "        self.fc1 = nn.Sequential(nn.Linear(in_features=x_dim, out_features=h_dim1), nn.ReLU()) # FILL IN CODE HERE\n",
    "        self.fc2 = nn.Sequential(nn.Linear(in_features=h_dim1, out_features=h_dim2), nn.ReLU()) # FILL IN CODE HERE\n",
    "        self.fc3 = nn.Linear(in_features=h_dim2, out_features=z_dim) # FILL IN CODE HERE\n",
    "        # decoder part\n",
    "        self.fc4 = nn.Sequential(nn.Linear(in_features=z_dim, out_features=h_dim2), nn.ReLU()) # FILL IN CODE HERE\n",
    "        self.fc5 = nn.Sequential(nn.Linear(in_features=h_dim2, out_features=h_dim1), nn.ReLU()) # FILL IN CODE HERE\n",
    "        self.fc6 = nn.Sequential(nn.Linear(in_features=h_dim1, out_features=x_dim), nn.Sigmoid()) # FILL IN CODE HERE\n",
    "\n",
    "    def encoder(self, x):\n",
    "        h = x.view(-1, self.n_pixels) # FILL IN CODE HERE\n",
    "        h = nn.Sequential(self.fc1, self.fc2, self.fc3)(h) # FILL IN CODE HERE\n",
    "        return h # FILL IN CODE HERE\n",
    "    def decoder(self, z):\n",
    "        h = nn.Sequential(self.fc4, self.fc5, self.fc6)(z) # FILL IN CODE HERE\n",
    "        h = h.view(-1, 1, 28, 28) # FILL IN CODE HERE\n",
    "        return h # FILL IN CODE HERE\n",
    "    def forward(self, x):\n",
    "        y = self.decoder(self.encoder(x)) # FILL IN CODE HERE\n",
    "        return(y)\n",
    "    def loss_function(self,x, y):\n",
    "        bce_loss = nn.BCELoss()(y, x) # FILL IN CODE HERE\n",
    "        return torch.mean(bce_loss)"
   ]
  },
  {
   "cell_type": "code",
   "execution_count": 6,
   "metadata": {
    "id": "oV40vRMQRoG1"
   },
   "outputs": [],
   "source": [
    "# create model\n",
    "ae_dim_1 = 512\n",
    "ae_dim_2 = 256\n",
    "z_dim = 10\n",
    "ae_model = AE(x_dim=n_pixels, h_dim1= ae_dim_1, h_dim2=ae_dim_2, z_dim=z_dim,n_rows=n_rows,n_cols=n_cols,n_channels=n_channels)\n",
    "ae_optimizer = optim.Adam(ae_model.parameters())"
   ]
  },
  {
   "cell_type": "markdown",
   "metadata": {
    "id": "-659aM36xvXX"
   },
   "source": [
    "Now, define a generic function to train the model for one epoch"
   ]
  },
  {
   "cell_type": "code",
   "execution_count": 7,
   "metadata": {
    "id": "wfqX6Brlxjyi"
   },
   "outputs": [],
   "source": [
    "def train_ae(ae_model,data_train_loader,epoch):\n",
    "    train_loss = 0\n",
    "    for batch_idx, (data, _) in enumerate(data_train_loader):\n",
    "        ae_optimizer.zero_grad()\n",
    "\n",
    "        y = ae_model.forward(data) # FILL IN CODE HERE\n",
    "        loss_ae = ae_model.loss_function(data, y) # FILL IN CODE HERE\n",
    "\n",
    "        loss_ae.backward()\n",
    "        train_loss += loss_ae.item()\n",
    "        ae_optimizer.step()\n",
    "        \n",
    "        if batch_idx % 100 == 0:\n",
    "            print('Train Epoch: {} [{}/{} ({:.0f}%)]\\tLoss: {:.6f}'.format(\n",
    "                epoch, batch_idx * len(data), len(data_train_loader.dataset),\n",
    "                100. * batch_idx / len(data_train_loader), loss_ae.item() / len(data)))\n",
    "    print('====> Epoch: {} Average loss: {:.4f}'.format(epoch, train_loss / len(data_train_loader.dataset)))\n"
   ]
  },
  {
   "cell_type": "markdown",
   "metadata": {
    "id": "w3EbmswSzJdK"
   },
   "source": [
    "We define a function to carry out testing on the autoencoder model"
   ]
  },
  {
   "cell_type": "code",
   "execution_count": 8,
   "metadata": {
    "id": "11q_0PSibZk-"
   },
   "outputs": [
    {
     "name": "stdout",
     "output_type": "stream",
     "text": [
      "Train Epoch: 0 [0/1000 (0%)]\tLoss: 0.005418\n",
      "====> Epoch: 0 Average loss: 0.0044\n",
      "Train Epoch: 1 [0/1000 (0%)]\tLoss: 0.003167\n",
      "====> Epoch: 1 Average loss: 0.0024\n",
      "Train Epoch: 2 [0/1000 (0%)]\tLoss: 0.002234\n",
      "====> Epoch: 2 Average loss: 0.0021\n",
      "Train Epoch: 3 [0/1000 (0%)]\tLoss: 0.002165\n",
      "====> Epoch: 3 Average loss: 0.0019\n",
      "Train Epoch: 4 [0/1000 (0%)]\tLoss: 0.002209\n",
      "====> Epoch: 4 Average loss: 0.0019\n",
      "Train Epoch: 5 [0/1000 (0%)]\tLoss: 0.002086\n",
      "====> Epoch: 5 Average loss: 0.0018\n",
      "Train Epoch: 6 [0/1000 (0%)]\tLoss: 0.002051\n",
      "====> Epoch: 6 Average loss: 0.0018\n",
      "Train Epoch: 7 [0/1000 (0%)]\tLoss: 0.001912\n",
      "====> Epoch: 7 Average loss: 0.0018\n",
      "Train Epoch: 8 [0/1000 (0%)]\tLoss: 0.001985\n",
      "====> Epoch: 8 Average loss: 0.0018\n",
      "Train Epoch: 9 [0/1000 (0%)]\tLoss: 0.001953\n",
      "====> Epoch: 9 Average loss: 0.0018\n",
      "Train Epoch: 10 [0/1000 (0%)]\tLoss: 0.002020\n",
      "====> Epoch: 10 Average loss: 0.0018\n",
      "Train Epoch: 11 [0/1000 (0%)]\tLoss: 0.002003\n",
      "====> Epoch: 11 Average loss: 0.0017\n",
      "Train Epoch: 12 [0/1000 (0%)]\tLoss: 0.001944\n",
      "====> Epoch: 12 Average loss: 0.0017\n",
      "Train Epoch: 13 [0/1000 (0%)]\tLoss: 0.001876\n",
      "====> Epoch: 13 Average loss: 0.0017\n",
      "Train Epoch: 14 [0/1000 (0%)]\tLoss: 0.001781\n",
      "====> Epoch: 14 Average loss: 0.0017\n",
      "Train Epoch: 15 [0/1000 (0%)]\tLoss: 0.001859\n",
      "====> Epoch: 15 Average loss: 0.0016\n",
      "Train Epoch: 16 [0/1000 (0%)]\tLoss: 0.001802\n",
      "====> Epoch: 16 Average loss: 0.0016\n",
      "Train Epoch: 17 [0/1000 (0%)]\tLoss: 0.001769\n",
      "====> Epoch: 17 Average loss: 0.0015\n",
      "Train Epoch: 18 [0/1000 (0%)]\tLoss: 0.001692\n",
      "====> Epoch: 18 Average loss: 0.0015\n",
      "Train Epoch: 19 [0/1000 (0%)]\tLoss: 0.001648\n",
      "====> Epoch: 19 Average loss: 0.0014\n",
      "Train Epoch: 20 [0/1000 (0%)]\tLoss: 0.001616\n",
      "====> Epoch: 20 Average loss: 0.0014\n",
      "Train Epoch: 21 [0/1000 (0%)]\tLoss: 0.001517\n",
      "====> Epoch: 21 Average loss: 0.0014\n",
      "Train Epoch: 22 [0/1000 (0%)]\tLoss: 0.001447\n",
      "====> Epoch: 22 Average loss: 0.0013\n",
      "Train Epoch: 23 [0/1000 (0%)]\tLoss: 0.001440\n",
      "====> Epoch: 23 Average loss: 0.0013\n",
      "Train Epoch: 24 [0/1000 (0%)]\tLoss: 0.001372\n",
      "====> Epoch: 24 Average loss: 0.0013\n",
      "Train Epoch: 25 [0/1000 (0%)]\tLoss: 0.001430\n",
      "====> Epoch: 25 Average loss: 0.0012\n",
      "Train Epoch: 26 [0/1000 (0%)]\tLoss: 0.001375\n",
      "====> Epoch: 26 Average loss: 0.0012\n",
      "Train Epoch: 27 [0/1000 (0%)]\tLoss: 0.001303\n",
      "====> Epoch: 27 Average loss: 0.0012\n",
      "Train Epoch: 28 [0/1000 (0%)]\tLoss: 0.001323\n",
      "====> Epoch: 28 Average loss: 0.0012\n",
      "Train Epoch: 29 [0/1000 (0%)]\tLoss: 0.001333\n",
      "====> Epoch: 29 Average loss: 0.0012\n",
      "Train Epoch: 30 [0/1000 (0%)]\tLoss: 0.001256\n",
      "====> Epoch: 30 Average loss: 0.0011\n",
      "Train Epoch: 31 [0/1000 (0%)]\tLoss: 0.001272\n",
      "====> Epoch: 31 Average loss: 0.0011\n",
      "Train Epoch: 32 [0/1000 (0%)]\tLoss: 0.001217\n",
      "====> Epoch: 32 Average loss: 0.0011\n",
      "Train Epoch: 33 [0/1000 (0%)]\tLoss: 0.001248\n",
      "====> Epoch: 33 Average loss: 0.0011\n",
      "Train Epoch: 34 [0/1000 (0%)]\tLoss: 0.001227\n",
      "====> Epoch: 34 Average loss: 0.0011\n",
      "Train Epoch: 35 [0/1000 (0%)]\tLoss: 0.001225\n",
      "====> Epoch: 35 Average loss: 0.0011\n",
      "Train Epoch: 36 [0/1000 (0%)]\tLoss: 0.001175\n",
      "====> Epoch: 36 Average loss: 0.0011\n",
      "Train Epoch: 37 [0/1000 (0%)]\tLoss: 0.001082\n",
      "====> Epoch: 37 Average loss: 0.0010\n",
      "Train Epoch: 38 [0/1000 (0%)]\tLoss: 0.001163\n",
      "====> Epoch: 38 Average loss: 0.0010\n",
      "Train Epoch: 39 [0/1000 (0%)]\tLoss: 0.001133\n",
      "====> Epoch: 39 Average loss: 0.0010\n",
      "Train Epoch: 40 [0/1000 (0%)]\tLoss: 0.001125\n",
      "====> Epoch: 40 Average loss: 0.0010\n",
      "Train Epoch: 41 [0/1000 (0%)]\tLoss: 0.001127\n",
      "====> Epoch: 41 Average loss: 0.0010\n",
      "Train Epoch: 42 [0/1000 (0%)]\tLoss: 0.001076\n",
      "====> Epoch: 42 Average loss: 0.0010\n",
      "Train Epoch: 43 [0/1000 (0%)]\tLoss: 0.001108\n",
      "====> Epoch: 43 Average loss: 0.0010\n",
      "Train Epoch: 44 [0/1000 (0%)]\tLoss: 0.001118\n",
      "====> Epoch: 44 Average loss: 0.0010\n",
      "Train Epoch: 45 [0/1000 (0%)]\tLoss: 0.001084\n",
      "====> Epoch: 45 Average loss: 0.0010\n",
      "Train Epoch: 46 [0/1000 (0%)]\tLoss: 0.001044\n",
      "====> Epoch: 46 Average loss: 0.0009\n",
      "Train Epoch: 47 [0/1000 (0%)]\tLoss: 0.001023\n",
      "====> Epoch: 47 Average loss: 0.0009\n",
      "Train Epoch: 48 [0/1000 (0%)]\tLoss: 0.001015\n",
      "====> Epoch: 48 Average loss: 0.0009\n",
      "Train Epoch: 49 [0/1000 (0%)]\tLoss: 0.001025\n",
      "====> Epoch: 49 Average loss: 0.0009\n",
      "Train Epoch: 50 [0/1000 (0%)]\tLoss: 0.001020\n",
      "====> Epoch: 50 Average loss: 0.0009\n",
      "Train Epoch: 51 [0/1000 (0%)]\tLoss: 0.001044\n",
      "====> Epoch: 51 Average loss: 0.0009\n",
      "Train Epoch: 52 [0/1000 (0%)]\tLoss: 0.000970\n",
      "====> Epoch: 52 Average loss: 0.0009\n",
      "Train Epoch: 53 [0/1000 (0%)]\tLoss: 0.001003\n",
      "====> Epoch: 53 Average loss: 0.0009\n",
      "Train Epoch: 54 [0/1000 (0%)]\tLoss: 0.001055\n",
      "====> Epoch: 54 Average loss: 0.0009\n",
      "Train Epoch: 55 [0/1000 (0%)]\tLoss: 0.001023\n",
      "====> Epoch: 55 Average loss: 0.0009\n",
      "Train Epoch: 56 [0/1000 (0%)]\tLoss: 0.001001\n",
      "====> Epoch: 56 Average loss: 0.0009\n",
      "Train Epoch: 57 [0/1000 (0%)]\tLoss: 0.000954\n",
      "====> Epoch: 57 Average loss: 0.0009\n",
      "Train Epoch: 58 [0/1000 (0%)]\tLoss: 0.000954\n",
      "====> Epoch: 58 Average loss: 0.0009\n",
      "Train Epoch: 59 [0/1000 (0%)]\tLoss: 0.000889\n",
      "====> Epoch: 59 Average loss: 0.0008\n",
      "Train Epoch: 60 [0/1000 (0%)]\tLoss: 0.000941\n",
      "====> Epoch: 60 Average loss: 0.0009\n",
      "Train Epoch: 61 [0/1000 (0%)]\tLoss: 0.000941\n",
      "====> Epoch: 61 Average loss: 0.0008\n",
      "Train Epoch: 62 [0/1000 (0%)]\tLoss: 0.000949\n",
      "====> Epoch: 62 Average loss: 0.0008\n",
      "Train Epoch: 63 [0/1000 (0%)]\tLoss: 0.000941\n",
      "====> Epoch: 63 Average loss: 0.0008\n",
      "Train Epoch: 64 [0/1000 (0%)]\tLoss: 0.000891\n",
      "====> Epoch: 64 Average loss: 0.0008\n",
      "Train Epoch: 65 [0/1000 (0%)]\tLoss: 0.000906\n",
      "====> Epoch: 65 Average loss: 0.0008\n",
      "Train Epoch: 66 [0/1000 (0%)]\tLoss: 0.000874\n",
      "====> Epoch: 66 Average loss: 0.0008\n",
      "Train Epoch: 67 [0/1000 (0%)]\tLoss: 0.000896\n",
      "====> Epoch: 67 Average loss: 0.0008\n",
      "Train Epoch: 68 [0/1000 (0%)]\tLoss: 0.000879\n",
      "====> Epoch: 68 Average loss: 0.0008\n",
      "Train Epoch: 69 [0/1000 (0%)]\tLoss: 0.000904\n",
      "====> Epoch: 69 Average loss: 0.0008\n",
      "Train Epoch: 70 [0/1000 (0%)]\tLoss: 0.000906\n",
      "====> Epoch: 70 Average loss: 0.0008\n",
      "Train Epoch: 71 [0/1000 (0%)]\tLoss: 0.000877\n",
      "====> Epoch: 71 Average loss: 0.0008\n",
      "Train Epoch: 72 [0/1000 (0%)]\tLoss: 0.000850\n",
      "====> Epoch: 72 Average loss: 0.0008\n",
      "Train Epoch: 73 [0/1000 (0%)]\tLoss: 0.000864\n",
      "====> Epoch: 73 Average loss: 0.0008\n",
      "Train Epoch: 74 [0/1000 (0%)]\tLoss: 0.000831\n",
      "====> Epoch: 74 Average loss: 0.0008\n",
      "Train Epoch: 75 [0/1000 (0%)]\tLoss: 0.000821\n",
      "====> Epoch: 75 Average loss: 0.0008\n",
      "Train Epoch: 76 [0/1000 (0%)]\tLoss: 0.000840\n",
      "====> Epoch: 76 Average loss: 0.0008\n",
      "Train Epoch: 77 [0/1000 (0%)]\tLoss: 0.000831\n",
      "====> Epoch: 77 Average loss: 0.0008\n",
      "Train Epoch: 78 [0/1000 (0%)]\tLoss: 0.000826\n",
      "====> Epoch: 78 Average loss: 0.0008\n",
      "Train Epoch: 79 [0/1000 (0%)]\tLoss: 0.000829\n",
      "====> Epoch: 79 Average loss: 0.0007\n",
      "Train Epoch: 80 [0/1000 (0%)]\tLoss: 0.000846\n",
      "====> Epoch: 80 Average loss: 0.0007\n",
      "Train Epoch: 81 [0/1000 (0%)]\tLoss: 0.000849\n",
      "====> Epoch: 81 Average loss: 0.0007\n",
      "Train Epoch: 82 [0/1000 (0%)]\tLoss: 0.000805\n",
      "====> Epoch: 82 Average loss: 0.0007\n",
      "Train Epoch: 83 [0/1000 (0%)]\tLoss: 0.000809\n",
      "====> Epoch: 83 Average loss: 0.0007\n",
      "Train Epoch: 84 [0/1000 (0%)]\tLoss: 0.000838\n",
      "====> Epoch: 84 Average loss: 0.0007\n",
      "Train Epoch: 85 [0/1000 (0%)]\tLoss: 0.000806\n",
      "====> Epoch: 85 Average loss: 0.0007\n",
      "Train Epoch: 86 [0/1000 (0%)]\tLoss: 0.000784\n",
      "====> Epoch: 86 Average loss: 0.0007\n",
      "Train Epoch: 87 [0/1000 (0%)]\tLoss: 0.000814\n",
      "====> Epoch: 87 Average loss: 0.0007\n",
      "Train Epoch: 88 [0/1000 (0%)]\tLoss: 0.000778\n",
      "====> Epoch: 88 Average loss: 0.0007\n",
      "Train Epoch: 89 [0/1000 (0%)]\tLoss: 0.000822\n",
      "====> Epoch: 89 Average loss: 0.0007\n",
      "Train Epoch: 90 [0/1000 (0%)]\tLoss: 0.000774\n",
      "====> Epoch: 90 Average loss: 0.0007\n",
      "Train Epoch: 91 [0/1000 (0%)]\tLoss: 0.000804\n",
      "====> Epoch: 91 Average loss: 0.0007\n",
      "Train Epoch: 92 [0/1000 (0%)]\tLoss: 0.000798\n",
      "====> Epoch: 92 Average loss: 0.0007\n",
      "Train Epoch: 93 [0/1000 (0%)]\tLoss: 0.000746\n",
      "====> Epoch: 93 Average loss: 0.0007\n",
      "Train Epoch: 94 [0/1000 (0%)]\tLoss: 0.000759\n",
      "====> Epoch: 94 Average loss: 0.0007\n",
      "Train Epoch: 95 [0/1000 (0%)]\tLoss: 0.000785\n",
      "====> Epoch: 95 Average loss: 0.0007\n",
      "Train Epoch: 96 [0/1000 (0%)]\tLoss: 0.000794\n",
      "====> Epoch: 96 Average loss: 0.0007\n",
      "Train Epoch: 97 [0/1000 (0%)]\tLoss: 0.000773\n",
      "====> Epoch: 97 Average loss: 0.0007\n",
      "Train Epoch: 98 [0/1000 (0%)]\tLoss: 0.000766\n",
      "====> Epoch: 98 Average loss: 0.0007\n",
      "Train Epoch: 99 [0/1000 (0%)]\tLoss: 0.000788\n",
      "====> Epoch: 99 Average loss: 0.0007\n",
      "Train Epoch: 100 [0/1000 (0%)]\tLoss: 0.000783\n"
     ]
    },
    {
     "name": "stdout",
     "output_type": "stream",
     "text": [
      "====> Epoch: 100 Average loss: 0.0007\n",
      "Train Epoch: 101 [0/1000 (0%)]\tLoss: 0.000751\n",
      "====> Epoch: 101 Average loss: 0.0007\n",
      "Train Epoch: 102 [0/1000 (0%)]\tLoss: 0.000789\n",
      "====> Epoch: 102 Average loss: 0.0007\n",
      "Train Epoch: 103 [0/1000 (0%)]\tLoss: 0.000773\n",
      "====> Epoch: 103 Average loss: 0.0007\n",
      "Train Epoch: 104 [0/1000 (0%)]\tLoss: 0.000782\n",
      "====> Epoch: 104 Average loss: 0.0007\n",
      "Train Epoch: 105 [0/1000 (0%)]\tLoss: 0.000729\n",
      "====> Epoch: 105 Average loss: 0.0007\n",
      "Train Epoch: 106 [0/1000 (0%)]\tLoss: 0.000765\n",
      "====> Epoch: 106 Average loss: 0.0007\n",
      "Train Epoch: 107 [0/1000 (0%)]\tLoss: 0.000754\n",
      "====> Epoch: 107 Average loss: 0.0007\n",
      "Train Epoch: 108 [0/1000 (0%)]\tLoss: 0.000707\n",
      "====> Epoch: 108 Average loss: 0.0007\n",
      "Train Epoch: 109 [0/1000 (0%)]\tLoss: 0.000751\n",
      "====> Epoch: 109 Average loss: 0.0007\n",
      "Train Epoch: 110 [0/1000 (0%)]\tLoss: 0.000760\n",
      "====> Epoch: 110 Average loss: 0.0007\n",
      "Train Epoch: 111 [0/1000 (0%)]\tLoss: 0.000740\n",
      "====> Epoch: 111 Average loss: 0.0007\n",
      "Train Epoch: 112 [0/1000 (0%)]\tLoss: 0.000746\n",
      "====> Epoch: 112 Average loss: 0.0007\n",
      "Train Epoch: 113 [0/1000 (0%)]\tLoss: 0.000729\n",
      "====> Epoch: 113 Average loss: 0.0007\n",
      "Train Epoch: 114 [0/1000 (0%)]\tLoss: 0.000731\n",
      "====> Epoch: 114 Average loss: 0.0007\n",
      "Train Epoch: 115 [0/1000 (0%)]\tLoss: 0.000736\n",
      "====> Epoch: 115 Average loss: 0.0007\n",
      "Train Epoch: 116 [0/1000 (0%)]\tLoss: 0.000724\n",
      "====> Epoch: 116 Average loss: 0.0006\n",
      "Train Epoch: 117 [0/1000 (0%)]\tLoss: 0.000751\n",
      "====> Epoch: 117 Average loss: 0.0006\n",
      "Train Epoch: 118 [0/1000 (0%)]\tLoss: 0.000723\n",
      "====> Epoch: 118 Average loss: 0.0006\n",
      "Train Epoch: 119 [0/1000 (0%)]\tLoss: 0.000674\n",
      "====> Epoch: 119 Average loss: 0.0006\n",
      "Train Epoch: 120 [0/1000 (0%)]\tLoss: 0.000728\n",
      "====> Epoch: 120 Average loss: 0.0006\n",
      "Train Epoch: 121 [0/1000 (0%)]\tLoss: 0.000694\n",
      "====> Epoch: 121 Average loss: 0.0006\n",
      "Train Epoch: 122 [0/1000 (0%)]\tLoss: 0.000710\n",
      "====> Epoch: 122 Average loss: 0.0006\n",
      "Train Epoch: 123 [0/1000 (0%)]\tLoss: 0.000698\n",
      "====> Epoch: 123 Average loss: 0.0006\n",
      "Train Epoch: 124 [0/1000 (0%)]\tLoss: 0.000676\n",
      "====> Epoch: 124 Average loss: 0.0006\n",
      "Train Epoch: 125 [0/1000 (0%)]\tLoss: 0.000731\n",
      "====> Epoch: 125 Average loss: 0.0006\n",
      "Train Epoch: 126 [0/1000 (0%)]\tLoss: 0.000700\n",
      "====> Epoch: 126 Average loss: 0.0006\n",
      "Train Epoch: 127 [0/1000 (0%)]\tLoss: 0.000695\n",
      "====> Epoch: 127 Average loss: 0.0006\n",
      "Train Epoch: 128 [0/1000 (0%)]\tLoss: 0.000702\n",
      "====> Epoch: 128 Average loss: 0.0006\n",
      "Train Epoch: 129 [0/1000 (0%)]\tLoss: 0.000692\n",
      "====> Epoch: 129 Average loss: 0.0006\n",
      "Train Epoch: 130 [0/1000 (0%)]\tLoss: 0.000682\n",
      "====> Epoch: 130 Average loss: 0.0006\n",
      "Train Epoch: 131 [0/1000 (0%)]\tLoss: 0.000687\n",
      "====> Epoch: 131 Average loss: 0.0006\n",
      "Train Epoch: 132 [0/1000 (0%)]\tLoss: 0.000710\n",
      "====> Epoch: 132 Average loss: 0.0006\n",
      "Train Epoch: 133 [0/1000 (0%)]\tLoss: 0.000687\n",
      "====> Epoch: 133 Average loss: 0.0006\n",
      "Train Epoch: 134 [0/1000 (0%)]\tLoss: 0.000688\n",
      "====> Epoch: 134 Average loss: 0.0006\n",
      "Train Epoch: 135 [0/1000 (0%)]\tLoss: 0.000681\n",
      "====> Epoch: 135 Average loss: 0.0006\n",
      "Train Epoch: 136 [0/1000 (0%)]\tLoss: 0.000678\n",
      "====> Epoch: 136 Average loss: 0.0006\n",
      "Train Epoch: 137 [0/1000 (0%)]\tLoss: 0.000678\n",
      "====> Epoch: 137 Average loss: 0.0006\n",
      "Train Epoch: 138 [0/1000 (0%)]\tLoss: 0.000693\n",
      "====> Epoch: 138 Average loss: 0.0006\n",
      "Train Epoch: 139 [0/1000 (0%)]\tLoss: 0.000670\n",
      "====> Epoch: 139 Average loss: 0.0006\n",
      "Train Epoch: 140 [0/1000 (0%)]\tLoss: 0.000707\n",
      "====> Epoch: 140 Average loss: 0.0006\n",
      "Train Epoch: 141 [0/1000 (0%)]\tLoss: 0.000667\n",
      "====> Epoch: 141 Average loss: 0.0006\n",
      "Train Epoch: 142 [0/1000 (0%)]\tLoss: 0.000666\n",
      "====> Epoch: 142 Average loss: 0.0006\n",
      "Train Epoch: 143 [0/1000 (0%)]\tLoss: 0.000700\n",
      "====> Epoch: 143 Average loss: 0.0006\n",
      "Train Epoch: 144 [0/1000 (0%)]\tLoss: 0.000664\n",
      "====> Epoch: 144 Average loss: 0.0006\n",
      "Train Epoch: 145 [0/1000 (0%)]\tLoss: 0.000678\n",
      "====> Epoch: 145 Average loss: 0.0006\n",
      "Train Epoch: 146 [0/1000 (0%)]\tLoss: 0.000664\n",
      "====> Epoch: 146 Average loss: 0.0006\n",
      "Train Epoch: 147 [0/1000 (0%)]\tLoss: 0.000664\n",
      "====> Epoch: 147 Average loss: 0.0006\n",
      "Train Epoch: 148 [0/1000 (0%)]\tLoss: 0.000633\n",
      "====> Epoch: 148 Average loss: 0.0006\n",
      "Train Epoch: 149 [0/1000 (0%)]\tLoss: 0.000643\n",
      "====> Epoch: 149 Average loss: 0.0006\n"
     ]
    }
   ],
   "source": [
    "for epoch in range(0, n_epochs):\n",
    "    train_ae(ae_model,mnist_train_loader,epoch)"
   ]
  },
  {
   "cell_type": "code",
   "execution_count": 9,
   "metadata": {
    "id": "T8jXjdRyzMy2"
   },
   "outputs": [],
   "source": [
    "def display_images(imgs):\n",
    "    r = 1\n",
    "    c = imgs.shape[0]\n",
    "    fig, axs = plt.subplots(r, c)\n",
    "    for j in range(c):\n",
    "        #black and white images\n",
    "        axs[j].imshow(pytorch_to_numpy(imgs[j, 0,:,:]), cmap='gray')\n",
    "        axs[j].axis('off')\n",
    "    plt.show()\n",
    "\n",
    "def display_ae_images(ae_model, test_imgs):\n",
    "    n_images = 5\n",
    "    idx = np.random.randint(0, test_imgs.shape[0], n_images)\n",
    "    test_imgs = test_imgs[idx,:,:,:]\n",
    "    print(test_imgs.shape)\n",
    "\n",
    "    #get output images\n",
    "    output_imgs = pytorch_to_numpy(ae_model.forward( test_imgs ))\n",
    "    print(output_imgs.shape)\n",
    "\n",
    "    r = 2\n",
    "    c = n_images\n",
    "    fig, axs = plt.subplots(r, c)\n",
    "    for j in range(c):\n",
    "        #black and white images\n",
    "        axs[0,j].imshow(test_imgs[j, 0,:,:], cmap='gray')\n",
    "        axs[0,j].axis('off')\n",
    "        axs[1,j].imshow(output_imgs[j, 0,:,:], cmap='gray')\n",
    "        axs[1,j].axis('off')\n",
    "    plt.show()"
   ]
  },
  {
   "cell_type": "code",
   "execution_count": 10,
   "metadata": {
    "id": "9pbXch29d68D"
   },
   "outputs": [
    {
     "name": "stdout",
     "output_type": "stream",
     "text": [
      "torch.Size([5, 1, 28, 28])\n",
      "(5, 1, 28, 28)\n"
     ]
    },
    {
     "data": {
      "image/png": "[encoded data removed]",
      "text/plain": [
       "<Figure size 432x288 with 10 Axes>"
      ]
     },
     "metadata": {
      "needs_background": "light"
     },
     "output_type": "display_data"
    }
   ],
   "source": [
    "test_imgs = next(iter(mnist_train_loader))[0]\n",
    "display_ae_images(ae_model, test_imgs)"
   ]
  },
  {
   "cell_type": "markdown",
   "metadata": {
    "id": "assPaJqB5sa-"
   },
   "source": [
    "__Question__ Are you satisfied with the results, do they look good ?"
   ]
  },
  {
   "cell_type": "markdown",
   "metadata": {
    "id": "Q7uoWa4O5x8R"
   },
   "source": [
    "__Answer__\n",
    "\n",
    "Although the generated images are clean and gives us recognizables numbers, they seem to be a copy of the source images, just a little blurry."
   ]
  },
  {
   "cell_type": "markdown",
   "metadata": {
    "id": "zO9ATQEiyr3b"
   },
   "source": [
    "## 2/ Two simple generative models\n",
    "\n",
    "In this section, we consider two naïve approaches to creating generative models. The general idea is the following:\n",
    "\n",
    "- train an autoencoder\n",
    "- estimate different statistics (average, variance) of the data in the latent space\n",
    "- using these statistics, define a model based on a Gaussian distribution\n",
    "- generate data with this distribution\n",
    "\n",
    "We will consider these two situations :\n",
    "\n",
    "- a multivariate Gaussian distribution with __diagonal covariance matrix__ (each latent component is an independent random variable). This requires the average and variance in each latent component\n",
    "- a multivariate Gaussian distribution with __non-diagonal covariance matrix__. This requires the average and covariance matrix of the latent components\n",
    "\n",
    "Obviously, since this is done _a posteriori_ after training the autoencoder, there is nothing which guarantees that the latent codes do indeed follow a Gaussian distribution. Our goal will be to verify that Variational Autoencoders indeed produce better results than such naïve approaches."
   ]
  },
  {
   "cell_type": "markdown",
   "metadata": {
    "id": "x2M1-BRmf56d"
   },
   "source": [
    "## 2.0 Defining and generating random Gaussian latent codes\n",
    "\n",
    "Let $z$ be a latent code and $d$ the dimension of the latent space (called ``z_dim`` in the code). We suppose that the $z$'s follow a multivariate Gaussian distribution, written as:\n",
    "\n",
    "\\begin{equation}\n",
    "z \\sim \\mathcal{N}\\left(\n",
    "\\mu,\n",
    "\\bf{C}\n",
    "\\right),\n",
    "\\end{equation}\n",
    "where $\\mu$ and $\\bf{C}$ are the average vector and covariance matrix of the Gaussian distribution. To define such a generative model, we must therefore determine $\\mu$ and $\\bf{C}$. Once this is done, we can generate a random Gaussian latent code in the following manner:\n",
    "\n",
    "\\begin{equation}\n",
    "z = \\mu + {\\bf{L}} \\varepsilon,\n",
    "\\end{equation}\n",
    "where $\\varepsilon$ is a random vector drawn from a multivariate normal distribution ($\\mu=0$ and ${\\bf{C}} = \\text{Id}$), and $\\bf{L}$ is the Cholesky decomposition of the positive semi-definite covariance matrix. In other words:\n",
    "\n",
    "\\begin{equation}\n",
    "{\\bf{C}} = {\\bf{L}}{\\bf{L}^T}.\n",
    "\\end{equation}\n",
    "\n",
    "This gives a simple method of producing a multivariate Gaussian random variable."
   ]
  },
  {
   "cell_type": "markdown",
   "metadata": {
    "id": "NWpucm972i7j"
   },
   "source": [
    "## 2.1/ A Gaussian model with diagonal covariance\n",
    "\n",
    "The first naïve model is  defined in this first case as:\n",
    "\n",
    "- $\\bf{\\mu}=\\left[\\mu_0, \\mu_1, \\cdots, \\mu_{d-1}\\right]^T$\n",
    "- $\n",
    "  \\bf{C} = \\begin{pmatrix}\n",
    "\\sigma_0^2 & 0 & \\cdots & 0 \\\\\n",
    "0 & \\sigma_1^2 & \\cdots & 0 \\\\\n",
    "\\vdots & \\ddots & \\ddots & \\vdots \\\\\n",
    "0 & 0 & \\cdots & \\sigma_{d-1}^2\n",
    "\\end{pmatrix}$\n",
    "\n",
    "In this situation, therefore, the matrix $\\bf{L}$ can be calculated quite simply, as:\n",
    "- $\n",
    "  \\bf{L} = \\begin{pmatrix}\n",
    "\\sigma_0 & 0 & \\cdots & 0 \\\\\n",
    "0 & \\sigma_1 & \\cdots & 0 \\\\\n",
    "\\vdots & \\ddots & \\ddots & \\vdots \\\\\n",
    "0 & 0 & \\cdots & \\sigma_{d-1}\n",
    "\\end{pmatrix}$\n",
    "\n",
    "In the next cell, calculate the empirical average and variances over a certain number of batches:"
   ]
  },
  {
   "cell_type": "code",
   "execution_count": 11,
   "metadata": {
    "id": "sUXHCtvW2iQ0"
   },
   "outputs": [
    {
     "name": "stdout",
     "output_type": "stream",
     "text": [
      "Average of latent codes: tensor([-7.9296, -2.6798,  5.6474, -6.0676, 13.1450, -2.4746, -5.4461,  7.5226,\n",
      "         5.5855,  0.9145], grad_fn=<MeanBackward1>)\n",
      "Standard deviation of latent codes: tensor([7.4533, 8.4204, 6.5925, 8.6556, 8.0088, 7.2825, 7.7417, 6.6891, 8.0706,\n",
      "        7.3862], grad_fn=<MeanBackward1>)\n"
     ]
    }
   ],
   "source": [
    "n_batches = np.floor(len(mnist_train_loader.dataset.indices)/batch_size).astype(int)\n",
    "\n",
    "z_average = torch.zeros(n_batches, ae_model.z_dim)\n",
    "z_sigma = torch.zeros(n_batches, ae_model.z_dim)\n",
    "\n",
    "for batch_idx, (data, _) in enumerate(mnist_train_loader):\n",
    "    z = ae_model.encoder(data)\n",
    "    z_average[batch_idx, :] = z.mean(dim=0) # FILL IN CODE HERE\n",
    "    z_sigma[batch_idx, :] = z.var(dim=0).sqrt() # FILL IN CODE HERE\n",
    "\n",
    "z_average = z_average.mean(dim=0) # FILL IN CODE HERE\n",
    "z_sigma = z_sigma.mean(dim=0) # FILL IN CODE HERE\n",
    "\n",
    "print(\"Average of latent codes:\", z_average)\n",
    "print(\"Standard deviation of latent codes:\", z_sigma)"
   ]
  },
  {
   "cell_type": "markdown",
   "metadata": {
    "id": "Lrpc62ML9K4l"
   },
   "source": [
    "Now, in the next cell generate data with this simple generative model using the approach described above. Display these images with the ``display_images`` function. \n",
    "\n",
    "__NB__ You do not actually have to define the matrix $\\bf{L}$ in this case, an element-wise multiplication of two (properly chosen) vectors will suffice. To generate multivariate normal random variables you can use the following Pytorch function:\n",
    "\n",
    "- ```torch.randn```\n"
   ]
  },
  {
   "cell_type": "code",
   "execution_count": 12,
   "metadata": {
    "id": "1_Tekii-9QEo"
   },
   "outputs": [
    {
     "data": {
      "image/png": "[encoded data removed]",
      "text/plain": [
       "<Figure size 432x288 with 5 Axes>"
      ]
     },
     "metadata": {
      "needs_background": "light"
     },
     "output_type": "display_data"
    }
   ],
   "source": [
    "def generate_images_diagonal_gaussian(ae_model, z_average, z_sigma, n_images=5):\n",
    "    \n",
    "    epsilons = torch.randn(n_images, ae_model.z_dim) # FILL IN CODE HERE\n",
    "    z_generated = z_average + epsilons * z_sigma # FILL IN CODE HERE\n",
    "    imgs_generated = ae_model.decoder(z_generated) # FILL IN CODE HERE\n",
    "    return(imgs_generated)\n",
    "\n",
    "\n",
    "imgs_generated = generate_images_diagonal_gaussian(ae_model,z_average,z_sigma,n_images=5)\n",
    "display_images(imgs_generated)"
   ]
  },
  {
   "cell_type": "markdown",
   "metadata": {
    "id": "xiNaEgLIloeA"
   },
   "source": [
    "As you should be able to see, these results are not that good. Let's try a slightly more sophisticated model."
   ]
  },
  {
   "cell_type": "markdown",
   "metadata": {
    "id": "WjVPfkRKYMSh"
   },
   "source": [
    "## 2.1 Non-diagonal Gaussian model\n",
    "\n",
    "The second model uses a non-diagonal covariance matrix $\\bf{C}$ in the multivariate Gaussian distribution. In the next cell, calculate the average and covariance matrix over several batches of latent codes.\n",
    "\n",
    "__NB__ You can use the ```torch.cov``` function. Make sure to put the data in the right format for this (see documentation : https://pytorch.org/docs/stable/generated/torch.cov.html)."
   ]
  },
  {
   "cell_type": "code",
   "execution_count": 13,
   "metadata": {
    "id": "ArXgre39CD2H"
   },
   "outputs": [
    {
     "name": "stdout",
     "output_type": "stream",
     "text": [
      "Average of latent codes: tensor([-7.8332, -2.6593,  5.3519, -6.3751, 13.2114, -2.5108, -5.3527,  7.3055,\n",
      "         5.6403,  0.7674], grad_fn=<MeanBackward1>)\n",
      "Covariance matrix of latent codes: tensor([[ 5.6121e+01,  1.9502e-01,  4.6502e+00,  3.3377e+00, -9.8579e+00,\n",
      "          1.2139e+01,  3.7044e+01,  3.5535e-01,  2.0065e+01,  9.7120e+00],\n",
      "        [ 1.9502e-01,  7.1500e+01, -1.2785e+01,  1.2100e+01, -2.0640e+01,\n",
      "          1.2722e+01,  1.1277e+01, -3.8796e+00, -7.7305e+00,  1.7753e+01],\n",
      "        [ 4.6502e+00, -1.2785e+01,  4.1607e+01,  1.0823e+01,  8.1545e-01,\n",
      "          8.8465e-01,  3.2934e+00,  1.4370e+01, -7.6095e-01,  6.6235e+00],\n",
      "        [ 3.3377e+00,  1.2100e+01,  1.0823e+01,  7.6408e+01, -6.3018e+00,\n",
      "         -3.5197e+00,  2.2545e+01,  1.2095e+01, -1.9237e+01,  1.1136e+01],\n",
      "        [-9.8579e+00, -2.0640e+01,  8.1545e-01, -6.3018e+00,  6.5258e+01,\n",
      "         -7.1400e+00, -6.5080e+00,  1.3269e+01, -6.8557e-02, -5.0000e-01],\n",
      "        [ 1.2139e+01,  1.2722e+01,  8.8465e-01, -3.5197e+00, -7.1400e+00,\n",
      "          5.3736e+01, -1.6405e+01, -2.3953e+00,  2.2673e+01,  2.5508e+01],\n",
      "        [ 3.7044e+01,  1.1277e+01,  3.2934e+00,  2.2545e+01, -6.5080e+00,\n",
      "         -1.6405e+01,  5.9172e+01, -4.3309e+00, -2.2685e+01,  7.0101e+00],\n",
      "        [ 3.5535e-01, -3.8796e+00,  1.4370e+01,  1.2095e+01,  1.3269e+01,\n",
      "         -2.3953e+00, -4.3309e+00,  4.2048e+01,  1.1261e+00, -7.3495e+00],\n",
      "        [ 2.0065e+01, -7.7305e+00, -7.6095e-01, -1.9237e+01, -6.8557e-02,\n",
      "          2.2673e+01, -2.2685e+01,  1.1261e+00,  6.3870e+01, -2.6504e-01],\n",
      "        [ 9.7120e+00,  1.7753e+01,  6.6235e+00,  1.1136e+01, -5.0000e-01,\n",
      "          2.5508e+01,  7.0101e+00, -7.3495e+00, -2.6504e-01,  5.3735e+01]],\n",
      "       grad_fn=<MeanBackward1>)\n"
     ]
    }
   ],
   "source": [
    "n_batches = np.floor( len(mnist_train_loader.dataset.indices)/batch_size ).astype(int)\n",
    "\n",
    "z_average = torch.zeros(n_batches,ae_model.z_dim)\n",
    "z_covariance = torch.zeros(n_batches,ae_model.z_dim,ae_model.z_dim)\n",
    "\n",
    "for batch_idx, (data, _) in enumerate(mnist_train_loader):\n",
    "    z = ae_model.encoder(data)\n",
    "    z_average[batch_idx,:] = z.mean(dim=0) # FILL IN CODE HERE\n",
    "    z_covariance[batch_idx,:,:] = torch.cov(z.T) # FILL IN CODE HERE\n",
    "\n",
    "z_average = z_average.mean(dim=0) # FILL IN CODE HERE\n",
    "z_covariance = z_covariance.mean(dim=0) # FILL IN CODE HERE\n",
    "\n",
    "print(\"Average of latent codes:\",z_average)\n",
    "print(\"Covariance matrix of latent codes:\",z_covariance)\n"
   ]
  },
  {
   "cell_type": "markdown",
   "metadata": {
    "id": "JhXU8cnTZ0E8"
   },
   "source": [
    "Now, generate some samples with this distribution. In this case, you will actually have to calculate the Cholesky decomposition and find $\\bf{L}$. For this, you can use \n",
    "\n",
    "- ```torch.linalg.cholesky```\n",
    "\n",
    "In this model, you will need to carry out matrix multiplication over a batch of latent codes, which is a bit more complicated than the previous naïve model (which used element-wise vector multiplication). So you have two options:\n",
    "\n",
    "- copy the matrix $\\bf{L}$ several times and carry out batch matrix multiplication\n",
    "- simply loop and carry out normal matrix multiplication to produce each image (this has the disadvantage of not taking advantage of any parallelisation, but it should not matter too much).\n",
    "\n",
    "In the first case, you can use the following functions:\n",
    "\n",
    "- ```torch.bmm```\n",
    "- ```torch.tile```\n",
    "\n",
    "Fill in the function to generate images using this model now:"
   ]
  },
  {
   "cell_type": "code",
   "execution_count": 14,
   "metadata": {
    "id": "zXGlJTZ7Z4ed"
   },
   "outputs": [
    {
     "data": {
      "image/png": "[encoded data removed]",
      "text/plain": [
       "<Figure size 432x288 with 5 Axes>"
      ]
     },
     "metadata": {
      "needs_background": "light"
     },
     "output_type": "display_data"
    }
   ],
   "source": [
    "def generate_images_non_diagonal_gaussian(ae_model,z_average,z_covariance,n_images = 5):\n",
    "\n",
    "    #calcualte Cholesky decomposition of covariance matrix : C = L L^T\n",
    "    # Make sure that the first dimension is the batch dimension (with batch size n_images)\n",
    "    # You can use the torch.unsqueeze function for this\n",
    "    L = torch.linalg.cholesky(z_covariance.unsqueeze(0).repeat(n_images,1,1)) # FILL IN CODE HERE\n",
    "\n",
    "    epsilon = torch.randn(n_images, ae_model.z_dim) # FILL IN CODE HERE\n",
    "    z_generated = z_average.unsqueeze(0).repeat(n_images, 1) + torch.bmm(L, epsilon.unsqueeze(-1)).squeeze(-1) # FILL IN CODE HERE\n",
    "    imgs_generated = ae_model.decoder(z_generated) # FILL IN CODE HERE\n",
    "    return(imgs_generated)\n",
    "\n",
    "\n",
    "imgs_generated = generate_images_non_diagonal_gaussian(ae_model,z_average,z_covariance,n_images = 5)\n",
    "display_images(imgs_generated)"
   ]
  },
  {
   "cell_type": "markdown",
   "metadata": {
    "id": "qLtsdri6zKEm"
   },
   "source": [
    "You should see some improvement, but we can do better than this. Thus, we turn to the variational autoencoder."
   ]
  },
  {
   "cell_type": "markdown",
   "metadata": {
    "id": "8UqeNhuSdnDt"
   },
   "source": [
    "# 3/ Variational autoencoder\n",
    "\n",
    "Now, we are going to create an variational autoencoder to carry out __image generation__. Let's first recall the idea of a variational autoencoder\n",
    "\n",
    "## Main idea\n",
    "\n",
    "The main idea is to create an autoencoder whose latent codes follow a certain distribution (a Gaussian distribution in practice). This is done with two tools : \n",
    "\n",
    "- A specific architecture, where the encoder produces the average and variance of the latent codes\n",
    "- A specially designed loss function\n",
    "\n",
    "Once the VAE is trained, it is possible to sample in the latent space by producing random normal variables and simply decoding.\n",
    "\n",
    "## Architecture\n",
    "\n",
    "The architecture of the VAE model is as follows:\n",
    "\n",
    "The encoder consists of:\n",
    "\n",
    "Encoder :\n",
    "- Flatten input\n",
    "- Dense layer $+$ ReLU\n",
    "- Dense layer $+$ ReLU\n",
    "- Dense layer (no non-linarity) to produce the average, Dense layer (no non-linarity) to produce the variance (these last two layers are in parallel)\n",
    "\n",
    "Decoder :\n",
    "- Dense layer $+$ ReLU\n",
    "- Dense layer $+$ ReLU\n",
    "- Dense layer $+$ Sigmoid Activation\n",
    "- Reshape, to size $28\\times 28\\times 1$\n",
    "\n",
    "\n",
    "## Variational Autoencoder loss\n",
    "\n",
    "Recall that for the VAE, the loss function is in fact a function to __maximise__. In fact, for implementation, you will see that it is easier to __minimise__ $-\\mathcal{L}$.\n",
    "\n",
    "In the case of an image which is represented by a set of __Bernoulli__ variables (which is relevant for mnist), the original loss function (to maximise) is written :\n",
    "\n",
    "\n",
    "\\begin{align}\n",
    "\\mathcal{L} &= \\log\\left(p_\\theta(x|z)\\right) - KL\\left( q_\\phi(z|x) \\; || \\; p_\\theta(z)\\right) \\\\\n",
    "    &= \\left(\\sum_{i} x_i \\log y_i + (1-x_i) \\log (1-y_i)\\right) - \\left(\\frac{1}{2} \\sum_j \\left( \\sigma_j^2 + \\mu_j^2 - \\log \\sigma_j^2 -1 \\right)\\right)\n",
    "\\end{align}\n",
    "\n",
    "\n",
    "where $i$ is summed over the image pixels, and $j$ is summed over the elements of the latent space. $\\sigma_j^2$ is the $j$th element of the latent space variance, and $\\mu_j$ is the $j$th element of the latent space mean.\n",
    "\n",
    "The left part of the loss (reconstruction error) can be implemented simply as the binary cross-entropy between the input x and the output y. Since we are __maximising__ $-$[binary cross-entropy] (look at the formula), this is equivalent to minimising the binary cross-entropy.\n",
    "\n",
    "For the right part of the equation (KL divergence), you need to implement it manually. \n",
    "\n",
    "The final loss is the average, over the batch size, of the sum of the reconstruction error (left part) and the KL divergence (right part). Be careful, in the formula, the sums over $i$ and $j$ are over the number of pixels and the number of latent elements, respectively. To achieve a sum rather than an average, you can use ```torch.nn.BCELoss(reduction='sum')()```, and the ```torch.sum()``` functions.\n",
    "\n",
    "As in the case of the normal autoencoder, you will need to flatten and then reshape the tensors at the beginning/end of the network."
   ]
  },
  {
   "cell_type": "code",
   "execution_count": 89,
   "metadata": {
    "id": "6siMHQLheM4T"
   },
   "outputs": [],
   "source": [
    "class VAE(torch.nn.Module ):\n",
    "    def __init__(self, x_dim, h_dim1, h_dim2, z_dim,n_rows,n_cols,n_channels):\n",
    "        super(VAE, self).__init__()\n",
    "\n",
    "        self.n_rows = n_rows\n",
    "        self.n_cols = n_cols\n",
    "        self.n_channels = n_channels\n",
    "        self.n_pixels = (self.n_rows)*(self.n_cols)\n",
    "        self.z_dim = z_dim\n",
    "\n",
    "        # encoder part\n",
    "        self.fc1 = nn.Sequential(nn.Linear(in_features=x_dim, out_features=h_dim1), nn.ReLU()) # FILL IN CODE HERE\n",
    "        self.fc2 = nn.Sequential(nn.Linear(in_features=h_dim1, out_features=h_dim2), nn.ReLU()) # FILL IN CODE HERE\n",
    "        self.fc31 = nn.Linear(in_features=h_dim2, out_features=z_dim) # FILL IN CODE HERE\n",
    "        self.fc32 = nn.Linear(in_features=h_dim2, out_features=z_dim) # FILL IN CODE HERE\n",
    "        # decoder part\n",
    "        self.fc4 = nn.Sequential(nn.Linear(in_features=z_dim, out_features=h_dim2), nn.ReLU()) # FILL IN CODE HERE\n",
    "        self.fc5 = nn.Sequential(nn.Linear(in_features=h_dim2, out_features=h_dim1), nn.ReLU()) # FILL IN CODE HERE\n",
    "        self.fc6 = nn.Sequential(nn.Linear(in_features=h_dim1, out_features=x_dim), nn.Sigmoid()) # FILL IN CODE HERE\n",
    "\n",
    "    def encoder(self, x):\n",
    "        h = x.view(-1, self.n_pixels) # FILL IN CODE HERE\n",
    "        h = nn.Sequential(self.fc1, self.fc2)(h) # FILL IN CODE HERE\n",
    "        return self.fc31(h), self.fc32(h) # FILL IN CODE HERE\n",
    "    def decoder(self, z):\n",
    "        h = nn.Sequential(self.fc4, self.fc5, self.fc6)(z) # FILL IN CODE HERE\n",
    "        h = h.view(-1, 1, 28, 28) # FILL IN CODE HERE\n",
    "        return h # FILL IN CODE HERE\n",
    "\n",
    "    def sampling(self, mu, log_var):\n",
    "    # this function samples a Gaussian distribution, with average (mu) and standard deviation specified (using log_var)\n",
    "        std = torch.sqrt(torch.exp(log_var)) # FILL IN CODE HERE\n",
    "        eps = torch.randn_like(std) # FILL IN CODE HERE\n",
    "        return eps.mul(std).add_(mu) # return z sample\n",
    "\n",
    "    def forward(self, x):\n",
    "        z_mu, z_log_var = self.encoder(x)\n",
    "        z = self.sampling(z_mu, z_log_var)\n",
    "        return self.decoder(z), z_mu, z_log_var\n",
    "\n",
    "    def loss_function(self, x, y, mu, log_var):\n",
    "        reconstruction_error = torch.nn.BCELoss(reduction='sum')(y, x) # FILL IN CODE HERE\n",
    "\n",
    "        KLD = 0.5 * torch.sum(torch.exp(log_var) + mu**2 - log_var - 1) # FILL IN CODE HERE\n",
    "\n",
    "\n",
    "        return - reconstruction_error - KLD # FILL IN CODE HERE"
   ]
  },
  {
   "cell_type": "markdown",
   "metadata": {
    "id": "hk_9fDIphlsi"
   },
   "source": [
    "Now, create the model (similarly as above)"
   ]
  },
  {
   "cell_type": "code",
   "execution_count": 90,
   "metadata": {
    "id": "pVlpC2R3htyU"
   },
   "outputs": [],
   "source": [
    "# create model\n",
    "vae_dim_1 = ae_dim_1\n",
    "vae_dim_2 = ae_dim_2\n",
    "vae_model = VAE(x_dim=n_pixels, h_dim1= vae_dim_1, h_dim2=vae_dim_2, z_dim=z_dim,n_rows=n_rows,n_cols=n_cols,n_channels=n_channels)\n",
    "vae_optimizer = optim.Adam(vae_model.parameters(), maximize=True)"
   ]
  },
  {
   "cell_type": "markdown",
   "metadata": {
    "id": "NYKLF_oMh5HO"
   },
   "source": [
    "Finally, train the model. First modify the training function to the case of the vae."
   ]
  },
  {
   "cell_type": "code",
   "execution_count": 91,
   "metadata": {
    "id": "z6DjKTWmmssb"
   },
   "outputs": [],
   "source": [
    "def train_vae(vae_model,data_train_loader,epoch):\n",
    "    train_loss = 0\n",
    "    for batch_idx, (data, _) in enumerate(data_train_loader):\n",
    "        vae_optimizer.zero_grad()\n",
    "\n",
    "        y, z_mu, z_log_var = vae_model(data) # FILL IN CODE HERE\n",
    "        loss_vae = vae_model.loss_function(data, vae_model.decoder(vae_model.sampling(z_mu, z_log_var)), z_mu, z_log_var) # FILL IN CODE HERE\n",
    "        loss_vae.backward()\n",
    "        train_loss += loss_vae.item()\n",
    "        vae_optimizer.step() \n",
    "\n",
    "        if batch_idx % 100 == 0:\n",
    "            print('Train Epoch: {} [{}/{} ({:.0f}%)]\\tLoss: {:.6f}'.format(\n",
    "            epoch, batch_idx * len(data), len(data_train_loader.dataset),\n",
    "            100. * batch_idx / len(data_train_loader), loss_vae.item() / len(data)))\n",
    "    print('====> Epoch: {} Average loss: {:.4f}'.format(epoch, train_loss / len(data_train_loader.dataset)))\n"
   ]
  },
  {
   "cell_type": "code",
   "execution_count": 92,
   "metadata": {
    "id": "L9JUUs6Kh8HB"
   },
   "outputs": [
    {
     "name": "stdout",
     "output_type": "stream",
     "text": [
      "Train Epoch: 0 [0/1000 (0%)]\tLoss: -544.295166\n",
      "====> Epoch: 0 Average loss: -413.5101\n",
      "Train Epoch: 1 [0/1000 (0%)]\tLoss: -302.737793\n",
      "====> Epoch: 1 Average loss: -234.1509\n",
      "Train Epoch: 2 [0/1000 (0%)]\tLoss: -219.354706\n",
      "====> Epoch: 2 Average loss: -199.2335\n",
      "Train Epoch: 3 [0/1000 (0%)]\tLoss: -214.681610\n",
      "====> Epoch: 3 Average loss: -190.6748\n",
      "Train Epoch: 4 [0/1000 (0%)]\tLoss: -209.460327\n",
      "====> Epoch: 4 Average loss: -189.2570\n",
      "Train Epoch: 5 [0/1000 (0%)]\tLoss: -212.370117\n",
      "====> Epoch: 5 Average loss: -186.3926\n",
      "Train Epoch: 6 [0/1000 (0%)]\tLoss: -209.175842\n",
      "====> Epoch: 6 Average loss: -185.4616\n",
      "Train Epoch: 7 [0/1000 (0%)]\tLoss: -207.669510\n",
      "====> Epoch: 7 Average loss: -184.3582\n",
      "Train Epoch: 8 [0/1000 (0%)]\tLoss: -197.705399\n",
      "====> Epoch: 8 Average loss: -181.7361\n",
      "Train Epoch: 9 [0/1000 (0%)]\tLoss: -203.402527\n",
      "====> Epoch: 9 Average loss: -181.5631\n",
      "Train Epoch: 10 [0/1000 (0%)]\tLoss: -206.583435\n",
      "====> Epoch: 10 Average loss: -181.1364\n",
      "Train Epoch: 11 [0/1000 (0%)]\tLoss: -197.776962\n",
      "====> Epoch: 11 Average loss: -178.9665\n",
      "Train Epoch: 12 [0/1000 (0%)]\tLoss: -193.547195\n",
      "====> Epoch: 12 Average loss: -177.5279\n",
      "Train Epoch: 13 [0/1000 (0%)]\tLoss: -201.656052\n",
      "====> Epoch: 13 Average loss: -176.2840\n",
      "Train Epoch: 14 [0/1000 (0%)]\tLoss: -196.321915\n",
      "====> Epoch: 14 Average loss: -175.2948\n",
      "Train Epoch: 15 [0/1000 (0%)]\tLoss: -197.387543\n",
      "====> Epoch: 15 Average loss: -173.6420\n",
      "Train Epoch: 16 [0/1000 (0%)]\tLoss: -194.613647\n",
      "====> Epoch: 16 Average loss: -171.6500\n",
      "Train Epoch: 17 [0/1000 (0%)]\tLoss: -189.621017\n",
      "====> Epoch: 17 Average loss: -169.3192\n",
      "Train Epoch: 18 [0/1000 (0%)]\tLoss: -191.923462\n",
      "====> Epoch: 18 Average loss: -167.6922\n",
      "Train Epoch: 19 [0/1000 (0%)]\tLoss: -176.087982\n",
      "====> Epoch: 19 Average loss: -165.8000\n",
      "Train Epoch: 20 [0/1000 (0%)]\tLoss: -182.920715\n",
      "====> Epoch: 20 Average loss: -163.2535\n",
      "Train Epoch: 21 [0/1000 (0%)]\tLoss: -172.921295\n",
      "====> Epoch: 21 Average loss: -160.3910\n",
      "Train Epoch: 22 [0/1000 (0%)]\tLoss: -181.762329\n",
      "====> Epoch: 22 Average loss: -159.9236\n",
      "Train Epoch: 23 [0/1000 (0%)]\tLoss: -179.184265\n",
      "====> Epoch: 23 Average loss: -157.9984\n",
      "Train Epoch: 24 [0/1000 (0%)]\tLoss: -182.515060\n",
      "====> Epoch: 24 Average loss: -157.8279\n",
      "Train Epoch: 25 [0/1000 (0%)]\tLoss: -179.837036\n",
      "====> Epoch: 25 Average loss: -156.5090\n",
      "Train Epoch: 26 [0/1000 (0%)]\tLoss: -171.869476\n",
      "====> Epoch: 26 Average loss: -153.9730\n",
      "Train Epoch: 27 [0/1000 (0%)]\tLoss: -174.002655\n",
      "====> Epoch: 27 Average loss: -151.8114\n",
      "Train Epoch: 28 [0/1000 (0%)]\tLoss: -163.223740\n",
      "====> Epoch: 28 Average loss: -149.2132\n",
      "Train Epoch: 29 [0/1000 (0%)]\tLoss: -167.672226\n",
      "====> Epoch: 29 Average loss: -147.1700\n",
      "Train Epoch: 30 [0/1000 (0%)]\tLoss: -161.225143\n",
      "====> Epoch: 30 Average loss: -146.1299\n",
      "Train Epoch: 31 [0/1000 (0%)]\tLoss: -158.355255\n",
      "====> Epoch: 31 Average loss: -144.7224\n",
      "Train Epoch: 32 [0/1000 (0%)]\tLoss: -159.621613\n",
      "====> Epoch: 32 Average loss: -143.1193\n",
      "Train Epoch: 33 [0/1000 (0%)]\tLoss: -159.122101\n",
      "====> Epoch: 33 Average loss: -139.9917\n",
      "Train Epoch: 34 [0/1000 (0%)]\tLoss: -158.665146\n",
      "====> Epoch: 34 Average loss: -140.7295\n",
      "Train Epoch: 35 [0/1000 (0%)]\tLoss: -153.117188\n",
      "====> Epoch: 35 Average loss: -137.6420\n",
      "Train Epoch: 36 [0/1000 (0%)]\tLoss: -149.005219\n",
      "====> Epoch: 36 Average loss: -137.2531\n",
      "Train Epoch: 37 [0/1000 (0%)]\tLoss: -155.217239\n",
      "====> Epoch: 37 Average loss: -136.5284\n",
      "Train Epoch: 38 [0/1000 (0%)]\tLoss: -150.677124\n",
      "====> Epoch: 38 Average loss: -134.5821\n",
      "Train Epoch: 39 [0/1000 (0%)]\tLoss: -149.063202\n",
      "====> Epoch: 39 Average loss: -134.4771\n",
      "Train Epoch: 40 [0/1000 (0%)]\tLoss: -148.892151\n",
      "====> Epoch: 40 Average loss: -133.9315\n",
      "Train Epoch: 41 [0/1000 (0%)]\tLoss: -141.060104\n",
      "====> Epoch: 41 Average loss: -132.6944\n",
      "Train Epoch: 42 [0/1000 (0%)]\tLoss: -147.347412\n",
      "====> Epoch: 42 Average loss: -131.4417\n",
      "Train Epoch: 43 [0/1000 (0%)]\tLoss: -142.047043\n",
      "====> Epoch: 43 Average loss: -130.1785\n",
      "Train Epoch: 44 [0/1000 (0%)]\tLoss: -144.593399\n",
      "====> Epoch: 44 Average loss: -129.8984\n",
      "Train Epoch: 45 [0/1000 (0%)]\tLoss: -147.321564\n",
      "====> Epoch: 45 Average loss: -128.5984\n",
      "Train Epoch: 46 [0/1000 (0%)]\tLoss: -148.778015\n",
      "====> Epoch: 46 Average loss: -127.5305\n",
      "Train Epoch: 47 [0/1000 (0%)]\tLoss: -139.513123\n",
      "====> Epoch: 47 Average loss: -127.1221\n",
      "Train Epoch: 48 [0/1000 (0%)]\tLoss: -139.879547\n",
      "====> Epoch: 48 Average loss: -126.5037\n",
      "Train Epoch: 49 [0/1000 (0%)]\tLoss: -140.457565\n",
      "====> Epoch: 49 Average loss: -125.6874\n",
      "Train Epoch: 50 [0/1000 (0%)]\tLoss: -142.403778\n",
      "====> Epoch: 50 Average loss: -124.6390\n",
      "Train Epoch: 51 [0/1000 (0%)]\tLoss: -139.857239\n",
      "====> Epoch: 51 Average loss: -124.2384\n",
      "Train Epoch: 52 [0/1000 (0%)]\tLoss: -142.207703\n",
      "====> Epoch: 52 Average loss: -123.1952\n",
      "Train Epoch: 53 [0/1000 (0%)]\tLoss: -133.883713\n",
      "====> Epoch: 53 Average loss: -122.6444\n",
      "Train Epoch: 54 [0/1000 (0%)]\tLoss: -136.714157\n",
      "====> Epoch: 54 Average loss: -122.7199\n",
      "Train Epoch: 55 [0/1000 (0%)]\tLoss: -129.352219\n",
      "====> Epoch: 55 Average loss: -120.5919\n",
      "Train Epoch: 56 [0/1000 (0%)]\tLoss: -130.723083\n",
      "====> Epoch: 56 Average loss: -119.9733\n",
      "Train Epoch: 57 [0/1000 (0%)]\tLoss: -134.944763\n",
      "====> Epoch: 57 Average loss: -119.8180\n",
      "Train Epoch: 58 [0/1000 (0%)]\tLoss: -130.343048\n",
      "====> Epoch: 58 Average loss: -118.5521\n",
      "Train Epoch: 59 [0/1000 (0%)]\tLoss: -131.476257\n",
      "====> Epoch: 59 Average loss: -118.0998\n",
      "Train Epoch: 60 [0/1000 (0%)]\tLoss: -131.977783\n",
      "====> Epoch: 60 Average loss: -118.7416\n",
      "Train Epoch: 61 [0/1000 (0%)]\tLoss: -128.932190\n",
      "====> Epoch: 61 Average loss: -117.4635\n",
      "Train Epoch: 62 [0/1000 (0%)]\tLoss: -132.409241\n",
      "====> Epoch: 62 Average loss: -117.2669\n",
      "Train Epoch: 63 [0/1000 (0%)]\tLoss: -133.596664\n",
      "====> Epoch: 63 Average loss: -115.3472\n",
      "Train Epoch: 64 [0/1000 (0%)]\tLoss: -127.958412\n",
      "====> Epoch: 64 Average loss: -115.1704\n",
      "Train Epoch: 65 [0/1000 (0%)]\tLoss: -126.392235\n",
      "====> Epoch: 65 Average loss: -114.8630\n",
      "Train Epoch: 66 [0/1000 (0%)]\tLoss: -126.358368\n",
      "====> Epoch: 66 Average loss: -114.0916\n",
      "Train Epoch: 67 [0/1000 (0%)]\tLoss: -123.800560\n",
      "====> Epoch: 67 Average loss: -113.3606\n",
      "Train Epoch: 68 [0/1000 (0%)]\tLoss: -124.177162\n",
      "====> Epoch: 68 Average loss: -113.1813\n",
      "Train Epoch: 69 [0/1000 (0%)]\tLoss: -122.378548\n",
      "====> Epoch: 69 Average loss: -112.2311\n",
      "Train Epoch: 70 [0/1000 (0%)]\tLoss: -123.015907\n",
      "====> Epoch: 70 Average loss: -111.3003\n",
      "Train Epoch: 71 [0/1000 (0%)]\tLoss: -126.072128\n",
      "====> Epoch: 71 Average loss: -110.7661\n",
      "Train Epoch: 72 [0/1000 (0%)]\tLoss: -126.373451\n",
      "====> Epoch: 72 Average loss: -110.6930\n",
      "Train Epoch: 73 [0/1000 (0%)]\tLoss: -121.408730\n",
      "====> Epoch: 73 Average loss: -111.0691\n",
      "Train Epoch: 74 [0/1000 (0%)]\tLoss: -126.576447\n",
      "====> Epoch: 74 Average loss: -110.4625\n",
      "Train Epoch: 75 [0/1000 (0%)]\tLoss: -122.342468\n",
      "====> Epoch: 75 Average loss: -110.1333\n",
      "Train Epoch: 76 [0/1000 (0%)]\tLoss: -123.886932\n",
      "====> Epoch: 76 Average loss: -108.4959\n",
      "Train Epoch: 77 [0/1000 (0%)]\tLoss: -118.335327\n",
      "====> Epoch: 77 Average loss: -108.8386\n",
      "Train Epoch: 78 [0/1000 (0%)]\tLoss: -126.004921\n",
      "====> Epoch: 78 Average loss: -109.0076\n",
      "Train Epoch: 79 [0/1000 (0%)]\tLoss: -121.699951\n",
      "====> Epoch: 79 Average loss: -108.1181\n",
      "Train Epoch: 80 [0/1000 (0%)]\tLoss: -122.419243\n",
      "====> Epoch: 80 Average loss: -107.5910\n",
      "Train Epoch: 81 [0/1000 (0%)]\tLoss: -123.823128\n",
      "====> Epoch: 81 Average loss: -108.3189\n",
      "Train Epoch: 82 [0/1000 (0%)]\tLoss: -118.421440\n",
      "====> Epoch: 82 Average loss: -107.1133\n",
      "Train Epoch: 83 [0/1000 (0%)]\tLoss: -115.749428\n",
      "====> Epoch: 83 Average loss: -106.9010\n",
      "Train Epoch: 84 [0/1000 (0%)]\tLoss: -120.175644\n",
      "====> Epoch: 84 Average loss: -106.1878\n",
      "Train Epoch: 85 [0/1000 (0%)]\tLoss: -113.117485\n",
      "====> Epoch: 85 Average loss: -105.3316\n",
      "Train Epoch: 86 [0/1000 (0%)]\tLoss: -117.273827\n",
      "====> Epoch: 86 Average loss: -105.5645\n",
      "Train Epoch: 87 [0/1000 (0%)]\tLoss: -111.353577\n",
      "====> Epoch: 87 Average loss: -105.6702\n",
      "Train Epoch: 88 [0/1000 (0%)]\tLoss: -120.031250\n",
      "====> Epoch: 88 Average loss: -105.0659\n",
      "Train Epoch: 89 [0/1000 (0%)]\tLoss: -115.474838\n",
      "====> Epoch: 89 Average loss: -104.6702\n",
      "Train Epoch: 90 [0/1000 (0%)]\tLoss: -115.661545\n",
      "====> Epoch: 90 Average loss: -104.0053\n",
      "Train Epoch: 91 [0/1000 (0%)]\tLoss: -115.238487\n",
      "====> Epoch: 91 Average loss: -104.2141\n",
      "Train Epoch: 92 [0/1000 (0%)]\tLoss: -115.694290\n",
      "====> Epoch: 92 Average loss: -103.4386\n",
      "Train Epoch: 93 [0/1000 (0%)]\tLoss: -108.241783\n"
     ]
    },
    {
     "name": "stdout",
     "output_type": "stream",
     "text": [
      "====> Epoch: 93 Average loss: -103.2948\n",
      "Train Epoch: 94 [0/1000 (0%)]\tLoss: -110.435661\n",
      "====> Epoch: 94 Average loss: -103.2843\n",
      "Train Epoch: 95 [0/1000 (0%)]\tLoss: -108.498444\n",
      "====> Epoch: 95 Average loss: -102.6968\n",
      "Train Epoch: 96 [0/1000 (0%)]\tLoss: -113.822098\n",
      "====> Epoch: 96 Average loss: -102.3936\n",
      "Train Epoch: 97 [0/1000 (0%)]\tLoss: -116.276703\n",
      "====> Epoch: 97 Average loss: -101.8806\n",
      "Train Epoch: 98 [0/1000 (0%)]\tLoss: -116.111389\n",
      "====> Epoch: 98 Average loss: -102.0198\n",
      "Train Epoch: 99 [0/1000 (0%)]\tLoss: -113.230354\n",
      "====> Epoch: 99 Average loss: -101.8475\n",
      "Train Epoch: 100 [0/1000 (0%)]\tLoss: -112.975868\n",
      "====> Epoch: 100 Average loss: -101.0742\n",
      "Train Epoch: 101 [0/1000 (0%)]\tLoss: -114.687714\n",
      "====> Epoch: 101 Average loss: -100.5942\n",
      "Train Epoch: 102 [0/1000 (0%)]\tLoss: -117.187981\n",
      "====> Epoch: 102 Average loss: -101.2380\n",
      "Train Epoch: 103 [0/1000 (0%)]\tLoss: -113.156143\n",
      "====> Epoch: 103 Average loss: -100.5838\n",
      "Train Epoch: 104 [0/1000 (0%)]\tLoss: -115.256424\n",
      "====> Epoch: 104 Average loss: -100.7411\n",
      "Train Epoch: 105 [0/1000 (0%)]\tLoss: -112.270111\n",
      "====> Epoch: 105 Average loss: -100.0217\n",
      "Train Epoch: 106 [0/1000 (0%)]\tLoss: -109.909042\n",
      "====> Epoch: 106 Average loss: -100.0010\n",
      "Train Epoch: 107 [0/1000 (0%)]\tLoss: -112.570297\n",
      "====> Epoch: 107 Average loss: -99.9925\n",
      "Train Epoch: 108 [0/1000 (0%)]\tLoss: -112.472725\n",
      "====> Epoch: 108 Average loss: -99.8141\n",
      "Train Epoch: 109 [0/1000 (0%)]\tLoss: -107.709587\n",
      "====> Epoch: 109 Average loss: -99.3480\n",
      "Train Epoch: 110 [0/1000 (0%)]\tLoss: -108.308731\n",
      "====> Epoch: 110 Average loss: -99.1404\n",
      "Train Epoch: 111 [0/1000 (0%)]\tLoss: -110.952545\n",
      "====> Epoch: 111 Average loss: -98.7595\n",
      "Train Epoch: 112 [0/1000 (0%)]\tLoss: -108.733101\n",
      "====> Epoch: 112 Average loss: -98.6978\n",
      "Train Epoch: 113 [0/1000 (0%)]\tLoss: -112.349632\n",
      "====> Epoch: 113 Average loss: -99.0827\n",
      "Train Epoch: 114 [0/1000 (0%)]\tLoss: -109.670738\n",
      "====> Epoch: 114 Average loss: -98.4043\n",
      "Train Epoch: 115 [0/1000 (0%)]\tLoss: -104.728928\n",
      "====> Epoch: 115 Average loss: -98.1322\n",
      "Train Epoch: 116 [0/1000 (0%)]\tLoss: -106.744896\n",
      "====> Epoch: 116 Average loss: -98.1291\n",
      "Train Epoch: 117 [0/1000 (0%)]\tLoss: -108.409317\n",
      "====> Epoch: 117 Average loss: -97.9340\n",
      "Train Epoch: 118 [0/1000 (0%)]\tLoss: -107.851936\n",
      "====> Epoch: 118 Average loss: -97.7812\n",
      "Train Epoch: 119 [0/1000 (0%)]\tLoss: -111.241432\n",
      "====> Epoch: 119 Average loss: -97.5424\n",
      "Train Epoch: 120 [0/1000 (0%)]\tLoss: -110.464020\n",
      "====> Epoch: 120 Average loss: -97.1572\n",
      "Train Epoch: 121 [0/1000 (0%)]\tLoss: -106.046860\n",
      "====> Epoch: 121 Average loss: -97.0562\n",
      "Train Epoch: 122 [0/1000 (0%)]\tLoss: -108.750221\n",
      "====> Epoch: 122 Average loss: -97.4026\n",
      "Train Epoch: 123 [0/1000 (0%)]\tLoss: -109.021080\n",
      "====> Epoch: 123 Average loss: -96.9374\n",
      "Train Epoch: 124 [0/1000 (0%)]\tLoss: -106.614563\n",
      "====> Epoch: 124 Average loss: -96.8730\n",
      "Train Epoch: 125 [0/1000 (0%)]\tLoss: -106.747513\n",
      "====> Epoch: 125 Average loss: -96.7168\n",
      "Train Epoch: 126 [0/1000 (0%)]\tLoss: -111.099335\n",
      "====> Epoch: 126 Average loss: -96.7094\n",
      "Train Epoch: 127 [0/1000 (0%)]\tLoss: -107.724159\n",
      "====> Epoch: 127 Average loss: -96.2356\n",
      "Train Epoch: 128 [0/1000 (0%)]\tLoss: -104.848747\n",
      "====> Epoch: 128 Average loss: -95.3886\n",
      "Train Epoch: 129 [0/1000 (0%)]\tLoss: -105.322472\n",
      "====> Epoch: 129 Average loss: -95.6271\n",
      "Train Epoch: 130 [0/1000 (0%)]\tLoss: -106.905441\n",
      "====> Epoch: 130 Average loss: -95.4702\n",
      "Train Epoch: 131 [0/1000 (0%)]\tLoss: -109.086868\n",
      "====> Epoch: 131 Average loss: -95.5010\n",
      "Train Epoch: 132 [0/1000 (0%)]\tLoss: -110.341431\n",
      "====> Epoch: 132 Average loss: -94.8911\n",
      "Train Epoch: 133 [0/1000 (0%)]\tLoss: -108.756668\n",
      "====> Epoch: 133 Average loss: -94.8737\n",
      "Train Epoch: 134 [0/1000 (0%)]\tLoss: -105.273125\n",
      "====> Epoch: 134 Average loss: -94.5587\n",
      "Train Epoch: 135 [0/1000 (0%)]\tLoss: -102.752846\n",
      "====> Epoch: 135 Average loss: -94.7133\n",
      "Train Epoch: 136 [0/1000 (0%)]\tLoss: -105.428619\n",
      "====> Epoch: 136 Average loss: -95.0369\n",
      "Train Epoch: 137 [0/1000 (0%)]\tLoss: -102.700249\n",
      "====> Epoch: 137 Average loss: -94.3042\n",
      "Train Epoch: 138 [0/1000 (0%)]\tLoss: -102.207397\n",
      "====> Epoch: 138 Average loss: -93.7453\n",
      "Train Epoch: 139 [0/1000 (0%)]\tLoss: -103.078323\n",
      "====> Epoch: 139 Average loss: -94.1483\n",
      "Train Epoch: 140 [0/1000 (0%)]\tLoss: -101.363106\n",
      "====> Epoch: 140 Average loss: -93.7600\n",
      "Train Epoch: 141 [0/1000 (0%)]\tLoss: -105.229034\n",
      "====> Epoch: 141 Average loss: -93.2541\n",
      "Train Epoch: 142 [0/1000 (0%)]\tLoss: -102.868652\n",
      "====> Epoch: 142 Average loss: -93.4237\n",
      "Train Epoch: 143 [0/1000 (0%)]\tLoss: -101.370743\n",
      "====> Epoch: 143 Average loss: -93.2416\n",
      "Train Epoch: 144 [0/1000 (0%)]\tLoss: -102.052231\n",
      "====> Epoch: 144 Average loss: -93.0435\n",
      "Train Epoch: 145 [0/1000 (0%)]\tLoss: -101.506462\n",
      "====> Epoch: 145 Average loss: -93.0626\n",
      "Train Epoch: 146 [0/1000 (0%)]\tLoss: -101.413193\n",
      "====> Epoch: 146 Average loss: -92.9848\n",
      "Train Epoch: 147 [0/1000 (0%)]\tLoss: -102.950027\n",
      "====> Epoch: 147 Average loss: -92.8399\n",
      "Train Epoch: 148 [0/1000 (0%)]\tLoss: -101.668976\n",
      "====> Epoch: 148 Average loss: -92.9740\n",
      "Train Epoch: 149 [0/1000 (0%)]\tLoss: -106.320076\n",
      "====> Epoch: 149 Average loss: -92.7467\n"
     ]
    }
   ],
   "source": [
    "# now train the model\n",
    "for epoch in range(0, n_epochs):\n",
    "    train_vae(vae_model,mnist_train_loader,epoch)"
   ]
  },
  {
   "cell_type": "markdown",
   "metadata": {
    "id": "uTfRje_AkKDr"
   },
   "source": [
    "Now, generate some images with the VAE model"
   ]
  },
  {
   "cell_type": "code",
   "execution_count": 104,
   "metadata": {
    "id": "41tXdNsFkKk5"
   },
   "outputs": [
    {
     "data": {
      "image/png": "[encoded data removed]",
      "text/plain": [
       "<Figure size 432x288 with 5 Axes>"
      ]
     },
     "metadata": {
      "needs_background": "light"
     },
     "output_type": "display_data"
    }
   ],
   "source": [
    "def generate_images_vae(vae_model,n_images = 5):\n",
    "\n",
    "    epsilon = torch.randn(n_images, vae_model.z_dim) # FILL IN CODE HERE\n",
    "    imgs_generated = vae_model.decoder(epsilon) # FILL IN CODE HERE\n",
    "    return(imgs_generated)\n",
    "\n",
    "imgs_generated = generate_images_vae(vae_model,n_images=5)\n",
    "display_images(imgs_generated)"
   ]
  },
  {
   "cell_type": "markdown",
   "metadata": {
    "id": "lGnvKoynzaFN"
   },
   "source": [
    "Do you think the results are better ? What difference can you see ? What advantage does the Variational Autoencoder have over the simple autoencoder model, even though the second autoencoder approach has a more complex probabilistic latent model (a full covariance matrix) ?"
   ]
  },
  {
   "cell_type": "markdown",
   "metadata": {
    "id": "uuYn3_PBzjkI"
   },
   "source": [
    "__Answer__\n",
    "\n",
    "The results are pretty nice, better than before. While a simple autoencoder with a full covariance matrix in the probabilistic latent model can capture complex correlations in the data, a VAE can generate new data and provides a more principled regularization approach."
   ]
  },
  {
   "cell_type": "markdown",
   "metadata": {
    "id": "uXm-D9Ef9vYm"
   },
   "source": [
    "We will now compare the models quantitavely."
   ]
  },
  {
   "cell_type": "markdown",
   "metadata": {
    "id": "04MddkzuE324"
   },
   "source": [
    "# 3 Evaluating and comparing the models\n",
    "\n",
    "We will evaluate the models, in the following manner:\n",
    "\n",
    "- we train a simple convolutional neural network classifier on mnist, to a good accuracy\n",
    "- we generate images with each model\n",
    "- we find the average of the highest probability of the images according to the classifier, for each model. If this value is high, it means that on average the classifier considers that the images look like a \n",
    "\n",
    "We will use the following convoluional architecture for the classifier:\n",
    "\n",
    "- conv2d, filter size  3×3 , 32 filters, stride=(1,1), padding=\"SAME\"\n",
    "- ReLU\n",
    "- conv2d, filter size  3×3 , 32 filters, stride=(1,1), padding=\"SAME\"\n",
    "- ReLU\n",
    "- MaxPool2D, stride=(1,1)\n",
    "- Flatten\n",
    "- Dense layer\n",
    "\n",
    "Now, define the model. To make things easier, use the ```torch.nn.Sequential``` API (there is no need for a Class in this simple case)."
   ]
  },
  {
   "cell_type": "code",
   "execution_count": 115,
   "metadata": {
    "id": "P87a-DkXFOCv"
   },
   "outputs": [],
   "source": [
    "learning_rate = 0.01\n",
    "n_epochs = 20\n",
    "batch_size = 64\n",
    "nb_classes = int(mnist_trainset.targets.max()+1)\n",
    "\n",
    "# number of convolutional filters to use\n",
    "nb_filters = 32\n",
    "# convolution kernel size\n",
    "kernel_size = (3, 3)\n",
    "# size of pooling area for max pooling\n",
    "pool_size = (2, 2)\n",
    "\n",
    "# --- Size of the successive layers\n",
    "n_h_0 = 1 #greyscale input images\n",
    "n_h_1 = nb_filters\n",
    "n_h_2 = nb_filters\n",
    "\n",
    "mnist_classification_model = nn.Sequential(\n",
    "    nn.Conv2d(in_channels=n_h_0, out_channels=n_h_1, kernel_size=kernel_size, stride=(1,1), padding=\"same\"),\n",
    "    nn.ReLU(),\n",
    "    nn.Conv2d(in_channels=n_h_1, out_channels=n_h_2, kernel_size=kernel_size, stride=(1,1), padding=\"same\"),\n",
    "    nn.ReLU(),\n",
    "    nn.MaxPool2d(kernel_size=pool_size, stride=(1,1)),\n",
    "    nn.Flatten(),\n",
    "    nn.Linear(n_h_2*27*27, nb_classes)\n",
    ") # FILL IN CODE HERE\n",
    "\n",
    "criterion = nn.CrossEntropyLoss() # FILL IN CODE HERE\n",
    "optimizer = torch.optim.Adam(mnist_classification_model.parameters(), lr=learning_rate)"
   ]
  },
  {
   "cell_type": "markdown",
   "metadata": {
    "id": "_sUZONxw2bnt"
   },
   "source": [
    "Create a function to calculate accuracy, instead of loss"
   ]
  },
  {
   "cell_type": "code",
   "execution_count": 116,
   "metadata": {
    "id": "aOww0ydr2fT0"
   },
   "outputs": [],
   "source": [
    "def get_accuracy(x_pred,x_label):\n",
    "    acc = torch.sum(x_pred == x_label)/(x_pred.shape[0])\n",
    "    return acc"
   ]
  },
  {
   "cell_type": "markdown",
   "metadata": {
    "id": "qw0vkZIqFcse"
   },
   "source": [
    "Now, train the model. You should be able to achieve an accuracy close to 1.00 within 20 epochs"
   ]
  },
  {
   "cell_type": "code",
   "execution_count": 117,
   "metadata": {
    "id": "0FA8YoX2FcHP"
   },
   "outputs": [
    {
     "name": "stdout",
     "output_type": "stream",
     "text": [
      "Epoch:0 Train Loss:0.0180 Accuracy:0.1328\n",
      "Epoch:1 Train Loss:0.0180 Accuracy:0.1172\n",
      "Epoch:2 Train Loss:0.0180 Accuracy:0.1406\n",
      "Epoch:3 Train Loss:0.0180 Accuracy:0.1484\n",
      "Epoch:4 Train Loss:0.0180 Accuracy:0.0938\n",
      "Epoch:5 Train Loss:0.0179 Accuracy:0.1172\n",
      "Epoch:6 Train Loss:0.0179 Accuracy:0.1172\n",
      "Epoch:7 Train Loss:0.0179 Accuracy:0.1016\n",
      "Epoch:8 Train Loss:0.0180 Accuracy:0.1172\n",
      "Epoch:9 Train Loss:0.0179 Accuracy:0.1562\n",
      "Epoch:10 Train Loss:0.0179 Accuracy:0.1016\n",
      "Epoch:11 Train Loss:0.0179 Accuracy:0.1328\n",
      "Epoch:12 Train Loss:0.0179 Accuracy:0.1094\n",
      "Epoch:13 Train Loss:0.0178 Accuracy:0.1250\n",
      "Epoch:14 Train Loss:0.0180 Accuracy:0.1328\n",
      "Epoch:15 Train Loss:0.0179 Accuracy:0.1328\n",
      "Epoch:16 Train Loss:0.0180 Accuracy:0.0859\n",
      "Epoch:17 Train Loss:0.0179 Accuracy:0.1094\n",
      "Epoch:18 Train Loss:0.0179 Accuracy:0.0859\n",
      "Epoch:19 Train Loss:0.0180 Accuracy:0.0703\n"
     ]
    }
   ],
   "source": [
    "train_losses=[]\n",
    "valid_losses=[]\n",
    "\n",
    "for epoch in range(0,n_epochs):\n",
    "    train_loss=0.0\n",
    "\n",
    "    for batch_idx, (imgs, labels) in enumerate(mnist_train_loader):\n",
    "\n",
    "        # set the gradients back to 0\n",
    "        optimizer.zero_grad()\n",
    "        predict=mnist_classification_model(imgs)\n",
    "        # apply loss function\n",
    "        loss=criterion(predict,labels)\n",
    "        acc = get_accuracy(torch.argmax(predict,dim=1),labels)\n",
    "        # backpropagation\n",
    "        loss.backward()\n",
    "        optimizer.step()\n",
    "        train_loss=loss.item()\n",
    "    print('Epoch:{} Train Loss:{:.4f} Accuracy:{:.4f}'.format(epoch,train_loss/imgs.shape[0],acc))"
   ]
  },
  {
   "cell_type": "markdown",
   "metadata": {
    "id": "zFgN5LblFwTa"
   },
   "source": [
    "### Evaluate the average maximum prediction of the images generated by each generative model (higher is better)\n",
    "\n",
    "Now, we will evaluate the models. For each ones, produce a certain number of images, and put those images through the classification network. Then find the maximum class probability of each image, and average it over all the images. We will use this as a metric to evaluate each model.\n",
    "\n",
    "__CAREFUL__: the output of the network does __not__ include the Softmax layer, so you will have to carry it out, with:\n",
    "- ```torch.nn.Softmax()(...)```\n",
    "\n",
    "Define this metric now:"
   ]
  },
  {
   "cell_type": "code",
   "execution_count": 118,
   "metadata": {
    "id": "lCJ_0qqjOXHT"
   },
   "outputs": [],
   "source": [
    "def generative_model_score(imgs_in,classification_model):\n",
    "    gen_score = torch.mean(torch.max(torch.nn.Softmax()(classification_model(imgs_in)), dim=1)[0]) # FILL IN CODE HERE\n",
    "    return(gen_score)"
   ]
  },
  {
   "cell_type": "markdown",
   "metadata": {
    "id": "yGq7YFg51UoP"
   },
   "source": [
    "Now, generate some images with each of the three models, and evaluate these models:"
   ]
  },
  {
   "cell_type": "code",
   "execution_count": 119,
   "metadata": {
    "id": "4-L4u2jhILFx"
   },
   "outputs": [
    {
     "name": "stdout",
     "output_type": "stream",
     "text": [
      "Diagonal gaussian generative model score :  0.11708696186542511\n",
      "Non diagonal gaussian generative model score :  0.11708696186542511\n",
      "Variational autoencoder model score:  0.11708696186542511\n"
     ]
    },
    {
     "name": "stderr",
     "output_type": "stream",
     "text": [
      "C:\\Users\\benji\\AppData\\Local\\Temp/ipykernel_29600/3150299187.py:2: UserWarning: Implicit dimension choice for softmax has been deprecated. Change the call to include dim=X as an argument.\n",
      "  gen_score = torch.mean(torch.max(torch.nn.Softmax()(classification_model(imgs_in)), dim=1)[0]) # FILL IN CODE HERE\n"
     ]
    }
   ],
   "source": [
    "imgs_diagonal_gaussian = generate_images_diagonal_gaussian(ae_model,z_average,z_sigma,n_images = 50)\n",
    "imgs_non_diagonal_gaussian = generate_images_non_diagonal_gaussian(ae_model,z_average,z_covariance,n_images = 50)\n",
    "imgs_vae = generate_images_vae(vae_model,n_images=50)\n",
    "\n",
    "# average of maximum of first model \n",
    "diagonal_gaussian_score = float(generative_model_score(imgs_diagonal_gaussian,mnist_classification_model))\n",
    "non_diagonal_gaussian_score = float(generative_model_score(imgs_non_diagonal_gaussian,mnist_classification_model))\n",
    "vae_gaussian_score = float(generative_model_score(imgs_vae,mnist_classification_model))\n",
    "\n",
    "print(\"Diagonal gaussian generative model score : \",diagonal_gaussian_score)\n",
    "print(\"Non diagonal gaussian generative model score : \",non_diagonal_gaussian_score)\n",
    "print(\"Variational autoencoder model score: \",vae_gaussian_score) "
   ]
  },
  {
   "cell_type": "markdown",
   "metadata": {
    "id": "sxvsG8FC1gNS"
   },
   "source": [
    "Please answer the following questions:\n",
    "\n",
    "- Which model is better quantitatively ? \n",
    "- Do the quantitative result support the qualitative results ?\n",
    "- Can you see any drawbacks of this method of evaluation ?\n",
    "- Can you propose any more sophisticated models than the multivariate Gaussian approach (apart from the variational autoencoder) ? "
   ]
  },
  {
   "cell_type": "markdown",
   "metadata": {
    "id": "3SYCyfKR3G7Y"
   },
   "source": [
    "__Answer__  \n",
    "There is an error in my code because I kept getting the same results no matter the method used, but I cannot find it..."
   ]
  }
 ],
 "metadata": {
  "accelerator": "GPU",
  "colab": {
   "provenance": []
  },
  "kernelspec": {
   "display_name": "Python 3 (ipykernel)",
   "language": "python",
   "name": "python3"
  },
  "language_info": {
   "codemirror_mode": {
    "name": "ipython",
    "version": 3
   },
   "file_extension": ".py",
   "mimetype": "text/x-python",
   "name": "python",
   "nbconvert_exporter": "python",
   "pygments_lexer": "ipython3",
   "version": "3.9.7"
  }
 },
 "nbformat": 4,
 "nbformat_minor": 1
}
